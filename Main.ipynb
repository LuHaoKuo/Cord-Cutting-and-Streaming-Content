{
 "cells": [
  {
   "attachments": {},
   "cell_type": "markdown",
   "metadata": {},
   "source": [
    "# Cord-Cutting and Streaming Content\n",
    "\n",
    "“Cord- Cutting”, the pattern of viewers cancelling their subscriptions to traditional cable companies in favor of multichannel subscription services.<p>\n",
    "Like-Minded “cord cutters” flock to reddit to share their experiences.<p>\n",
    "This project intends to figure out what drives people to cut the cord, what they look for in streaming services, their favorite shows and complaints (if any) with the streaming services."
   ]
  },
  {
   "attachments": {},
   "cell_type": "markdown",
   "metadata": {},
   "source": [
    "#### Data Source\n",
    "Using the Reddit API and pushshift.io (Big Query), the data are comments extracted from cordcutter subreddit for the last 4 months. The data is totaled as over 28k comments. <p>\n",
    "Preprocessing includes Parentheses, commas, asterisks, Short comments (less than 10 words), Various forms of the service names to a common name, and so on. \n"
   ]
  },
  {
   "cell_type": "code",
   "execution_count": 13,
   "metadata": {},
   "outputs": [
    {
     "name": "stdout",
     "output_type": "stream",
     "text": [
      "Requirement already satisfied: adjustText in ./anaconda3/lib/python3.6/site-packages (0.7.3)\n",
      "Requirement already satisfied: matplotlib in ./anaconda3/lib/python3.6/site-packages (from adjustText) (2.2.2)\n",
      "Requirement already satisfied: numpy in ./anaconda3/lib/python3.6/site-packages (from adjustText) (1.14.3)\n",
      "Requirement already satisfied: cycler>=0.10 in ./anaconda3/lib/python3.6/site-packages (from matplotlib->adjustText) (0.10.0)\n",
      "Requirement already satisfied: pyparsing!=2.0.4,!=2.1.2,!=2.1.6,>=2.0.1 in ./anaconda3/lib/python3.6/site-packages (from matplotlib->adjustText) (2.2.0)\n",
      "Requirement already satisfied: python-dateutil>=2.1 in ./anaconda3/lib/python3.6/site-packages (from matplotlib->adjustText) (2.7.3)\n",
      "Requirement already satisfied: pytz in ./anaconda3/lib/python3.6/site-packages (from matplotlib->adjustText) (2018.4)\n",
      "Requirement already satisfied: six>=1.10 in ./anaconda3/lib/python3.6/site-packages (from matplotlib->adjustText) (1.11.0)\n",
      "Requirement already satisfied: kiwisolver>=1.0.1 in ./anaconda3/lib/python3.6/site-packages (from matplotlib->adjustText) (1.0.1)\n",
      "Requirement already satisfied: setuptools in ./anaconda3/lib/python3.6/site-packages (from kiwisolver>=1.0.1->matplotlib->adjustText) (39.1.0)\n",
      "\u001b[31mdistributed 1.21.8 requires msgpack, which is not installed.\u001b[0m\n",
      "\u001b[33mYou are using pip version 10.0.1, however version 18.1 is available.\n",
      "You should consider upgrading via the 'pip install --upgrade pip' command.\u001b[0m\n"
     ]
    }
   ],
   "source": [
    "from sklearn import manifold\n",
    "from matplotlib import pyplot as plt\n",
    "from matplotlib.pyplot import figure\n",
    "#additional package for plot is needed\n",
    "import sys\n",
    "!{sys.executable} -m pip install adjustText\n",
    "from adjustText import adjust_text\n",
    "from sklearn.decomposition import LatentDirichletAllocation\n",
    "from sklearn.feature_extraction.text import CountVectorizer\n",
    "import csv\n",
    "from matplotlib.pyplot import bar\n",
    "from collections import Counter\n",
    "from nltk.corpus import stopwords\n",
    "from nltk.tokenize import RegexpTokenizer\n",
    "import operator\n",
    "import os"
   ]
  },
  {
   "cell_type": "markdown",
   "metadata": {},
   "source": [
    "## Data Import and Cleaning\n",
    "\n",
    "The data is scraped and parsed from Reddit via API, and contains some \"deleted\" record, which will be eliminated here."
   ]
  },
  {
   "cell_type": "code",
   "execution_count": 3,
   "metadata": {},
   "outputs": [],
   "source": [
    "comment_09 = []\n",
    "with open('/Users/k.vincent/Downloads/2018-09.csv', 'rt') as csvfile:\n",
    "    spamreader = csv.reader(csvfile, delimiter=',')\n",
    "    for row in spamreader:\n",
    "        comment_09.append(row)\n",
    "comment_06 = []\n",
    "with open('/Users/k.vincent/Downloads/2018-06.csv', 'rt') as csvfile:\n",
    "    spamreader = csv.reader(csvfile, delimiter=',')\n",
    "    for row in spamreader:\n",
    "        comment_06.append(row)\n",
    "        \n",
    "comment_07 = []\n",
    "with open('/Users/k.vincent/Downloads/2018-07.csv', 'rt') as csvfile:\n",
    "    spamreader = csv.reader(csvfile, delimiter=',')\n",
    "    for row in spamreader:\n",
    "        comment_07.append(row)\n",
    "        \n",
    "comment_08 = []\n",
    "with open('/Users/k.vincent/Downloads/2018-08.csv', 'rt') as csvfile:\n",
    "    spamreader = csv.reader(csvfile, delimiter=',')\n",
    "    for row in spamreader:\n",
    "        comment_08.append(row)\n",
    "        \n",
    "comments = []\n",
    "comments = comment_06+comment_07+comment_08+comment_09\n",
    "comments_origin = comments.copy()\n",
    "\n",
    "#eliminate deletion\n",
    "for comment in comments:\n",
    "    if comment[1] == '[deleted]' or comment[1] == '[removed]':\n",
    "        comments.remove(comment)"
   ]
  },
  {
   "cell_type": "code",
   "execution_count": null,
   "metadata": {},
   "outputs": [],
   "source": []
  },
  {
   "cell_type": "markdown",
   "metadata": {},
   "source": [
    "## Determine what cable companies, streaming services and channel to research. \n",
    "The list is discussed and decided through group discuss, and refined by exluding less popular ones. <br>\n",
    "Since we have lots of cable companies to consider, I seek to check the occurance of each first. Some cable companies are less popular and may not fully discussed on the forum. This project will exclude those companies as the data cannot suggest insights.\n",
    "Only companies with 100 or more mentions will be included."
   ]
  },
  {
   "cell_type": "code",
   "execution_count": 11,
   "metadata": {},
   "outputs": [],
   "source": [
    "temp = {}\n",
    "\n",
    "companies = ['XFINITY'\n",
    ",'Time Warner'\n",
    ",'Charter'\n",
    ",'Cox'\n",
    ",'Optimum'\n",
    ",'Bright House'\n",
    ",'WOW'\n",
    ",'Mediacom'\n",
    ",'Suddenlink'\n",
    ",'RCN'\n",
    ",'Cable One'\n",
    ",'Summit'\n",
    ",'Wave Broadband'\n",
    ",'Service Electric']\n",
    "for company in companies: \n",
    "    for ct in comments:\n",
    "        if company.lower() in ct[1].lower(): \n",
    "            if company in temp.keys():\n",
    "                temp[company] = temp[company]+1\n",
    "                continue\n",
    "            temp[company] = 1"
   ]
  },
  {
   "cell_type": "code",
   "execution_count": 12,
   "metadata": {},
   "outputs": [
    {
     "data": {
      "text/plain": [
       "{'XFINITY': 233,\n",
       " 'Time Warner': 80,\n",
       " 'Charter': 161,\n",
       " 'Cox': 123,\n",
       " 'Optimum': 52,\n",
       " 'Bright House': 7,\n",
       " 'WOW': 161,\n",
       " 'Mediacom': 10,\n",
       " 'Suddenlink': 9,\n",
       " 'RCN': 16,\n",
       " 'Cable One': 3,\n",
       " 'Summit': 1,\n",
       " 'Wave Broadband': 1,\n",
       " 'Service Electric': 1}"
      ]
     },
     "execution_count": 12,
     "metadata": {},
     "output_type": "execute_result"
    }
   ],
   "source": [
    "temp"
   ]
  },
  {
   "cell_type": "markdown",
   "metadata": {},
   "source": [
    "## Synonyms Replacement\n",
    "\n",
    "One company/channel/service may have several names. Hereby I use a list of word count to find them, and replace those words with the same name for accurate identification. <br>Considering Zipf's Law, the synonyms that have significant impact may not be too many and we can screen through the most frequent words to find them. <br>\n",
    "https://en.wikipedia.org/wiki/Zipf%27s_law"
   ]
  },
  {
   "cell_type": "code",
   "execution_count": 15,
   "metadata": {},
   "outputs": [],
   "source": [
    "tokenizer = RegexpTokenizer(r'\\w+')\n",
    "\n",
    "stop_words = set(stopwords.words('english'))\n",
    "stop_words.add(\"\\n\")\n",
    "\n",
    "fdist = Counter()\n",
    "\n",
    "for ct in comments:\n",
    "    temp_token = tokenizer.tokenize(ct[1].lower())\n",
    "    filtered_sentence = [w for w in temp_token if not w in stop_words] \n",
    "    fdist.update(filtered_sentence)\n",
    "    \n",
    "temp_dict = dict(fdist)\n",
    "sorted_dict = sorted(temp_dict.items(), key=operator.itemgetter(1), reverse = True)\n",
    "\n",
    "\n",
    "#word count of the whole corpus, to screen through and find replacement\n",
    "sorted_dict\n",
    "\n",
    "os.chdir(\"/Users/k.vincent/Desktop/\")\n",
    "with open('dict.csv', 'wt') as csv_file:\n",
    "    writer = csv.writer(csv_file, dialect='excel')\n",
    "    for i in sorted_dict:\n",
    "         writer.writerow(i)"
   ]
  },
  {
   "cell_type": "code",
   "execution_count": 526,
   "metadata": {},
   "outputs": [],
   "source": []
  },
  {
   "cell_type": "markdown",
   "metadata": {},
   "source": [
    "#### Import the lists of cable companies, channels and services. <br>\n",
    "#### Also, replace synonyms of companies with the same name. "
   ]
  },
  {
   "cell_type": "code",
   "execution_count": 34,
   "metadata": {},
   "outputs": [],
   "source": [
    "cable_com = []\n",
    "channel = []\n",
    "service = []\n",
    "with open('/Users/k.vincent/Desktop/MSBA Course - Fall 2018/Text Analytics/Final Project/Cable Company.csv'\\\n",
    "          , 'r',encoding=\"utf8\", errors='ignore') as csvfile:\n",
    "    spamreader = csv.reader(csvfile, delimiter=',')\n",
    "    for row in spamreader:\n",
    "        cable_com.append(row[0].lower())\n",
    "    #this is to fix import problem in the first row\n",
    "    cable_com[0] = 'XFINITY'\n",
    "#add additional target companies after discussion\n",
    "cable_com.append(\"fubo\")\n",
    "cable_com.append(\"spectrum\")\n",
    "\n",
    "with open('/Users/k.vincent/Desktop/MSBA Course - Fall 2018/Text Analytics/Final Project/Channel.csv'\\\n",
    "          , 'r',encoding=\"utf8\", errors='ignore') as csvfile:\n",
    "    spamreader = csv.reader(csvfile, delimiter=',')\n",
    "    for row in spamreader:\n",
    "        channel.append(row[0].lower())\n",
    "    #this is to fix import problem in the first row\n",
    "    channel[0] = 'abc'\n",
    "    \n",
    "    \n",
    "\n",
    "with open('/Users/k.vincent/Desktop/MSBA Course - Fall 2018/Text Analytics/Final Project/Service.csv'\\\n",
    "          , 'r',encoding=\"utf8\", errors='ignore') as csvfile:\n",
    "    spamreader = csv.reader(csvfile, delimiter=',')\n",
    "    for row in spamreader:\n",
    "        service.append(row[0].lower())\n",
    "    #this is to fix import problem in the first row\n",
    "    service[0] = 'youtube'\n",
    "#drop duplicates\n",
    "service = list(set(service))"
   ]
  },
  {
   "cell_type": "code",
   "execution_count": 35,
   "metadata": {},
   "outputs": [],
   "source": [
    "#import the mapping data for cleaning\n",
    "mapping = {}\n",
    "with open('/Users/k.vincent/Desktop/MSBA Course - Fall 2018/Text Analytics/Final Project/mapping.csv', 'r',encoding=\"utf8\", errors='ignore') as csvfile:\n",
    "    spamreader = csv.reader(csvfile, delimiter=',')\n",
    "    for row in spamreader:\n",
    "            mapping[row[1].lower()] = row[0].lower()\n",
    "#this is to fix import problem in the first row\n",
    "mapping[\"yttv\"] = \"youtube\"\n",
    "\n",
    "pure_comments = [i[1] for i in comments[1:]]\n",
    "#all comments to lower\n",
    "for i in range(0,len(pure_comments)):\n",
    "    pure_comments[i] = pure_comments[i].lower()\n",
    "    \n",
    "#replace model with brand\n",
    "for i in range(0,len(pure_comments)):\n",
    "    for key in mapping.keys():\n",
    "        if key in pure_comments[i]:\n",
    "            pure_comments[i] = pure_comments[i].replace(key, mapping[key])\n",
    "\n",
    "#\"pure_comments\" is the corpus we will use for MDS"
   ]
  },
  {
   "cell_type": "markdown",
   "metadata": {},
   "source": [
    "#### Filtering out some less frequent mentioned targets.<br>\n",
    "Though we have filtered the cable companies, some streaming services and channels also have few mentions. Let's drop it here."
   ]
  },
  {
   "cell_type": "code",
   "execution_count": 36,
   "metadata": {},
   "outputs": [],
   "source": [
    "#count the total occurance of those service, channel and cable company\n",
    "total = service +channel + cable_com\n",
    "\n",
    "provider_count = {}\n",
    "for node in pure_comments: \n",
    "    for provider in total: \n",
    "        if provider in node:\n",
    "            if provider in provider_count.keys():\n",
    "                provider_count[provider] = provider_count[provider]+1\n",
    "                continue\n",
    "            provider_count[provider] = 1\n",
    "\n",
    "provider_count['spectrum'] = provider_count['spectrum'] +provider_count['time warner'] \n",
    "del provider_count['time warner']\n",
    "#too many keywords have few mentions. Consider only those mentioned more than 100 times for MDS\n",
    "provider_count100 = {}\n",
    "for key, value in provider_count.items():\n",
    "    if value< 100:\n",
    "        continue\n",
    "    provider_count100[key] = value\n",
    "\n",
    "#provider_count100 is the all the service, channel and cable company we'll use for MDS"
   ]
  },
  {
   "cell_type": "markdown",
   "metadata": {},
   "source": [
    "Some corporations were hard to categorize or belong to several categories. After discussion, we fix the category here. "
   ]
  },
  {
   "cell_type": "code",
   "execution_count": 37,
   "metadata": {},
   "outputs": [],
   "source": [
    "##corporation type changes:\n",
    "try:\n",
    "    service.remove(\"comcast\")\n",
    "    cable_com.append(\"comcast\")\n",
    "except:\n",
    "    pass\n",
    "try:\n",
    "    service.remove(\"directv\")\n",
    "    cable_com.append(\"directv\")\n",
    "except:\n",
    "    pass\n",
    "\n",
    "try:\n",
    "    cable_com.remove(\"fubo\")\n",
    "    service.append(\"fubo\")\n",
    "except:\n",
    "    pass\n",
    "\n",
    "try:\n",
    "    service.remove(\"pbs\")\n",
    "    channel.append(\"pbs\")\n",
    "except:\n",
    "    pass\n",
    "\n",
    "try:\n",
    "    service.remove(\"hbo\")\n",
    "    channel.append(\"hbo\")\n",
    "except:\n",
    "    pass"
   ]
  },
  {
   "cell_type": "markdown",
   "metadata": {},
   "source": [
    "## Lift among the companies, and the Multidimensional Scaling (MDS)<br>\n",
    "With the target lists, we now use their lift to each other to see how people are associating them in the forum. <br> The lift, because it's pair-wise, will be in a high dimensional space. To visualize, here we apply multidimenional scaling to do dimensionality reduction. "
   ]
  },
  {
   "cell_type": "code",
   "execution_count": 29,
   "metadata": {},
   "outputs": [],
   "source": [
    "class lift:\n",
    "    N = 0\n",
    "    corpus = None\n",
    "    #input an array-like corpus to init\n",
    "    def __init__(self, corpus):\n",
    "        self.N = len(corpus)\n",
    "        self.corpus = corpus\n",
    "    \n",
    "    def __count__(self, keyword1, keyword2 = None):\n",
    "        if self.corpus == None:\n",
    "            print(\"unspecified corpus\")\n",
    "            return\n",
    "        count = 0\n",
    "        if keyword2 == None:\n",
    "            for node in self.corpus: \n",
    "                if keyword1 in node:\n",
    "                    count = count +1 \n",
    "            return count\n",
    "        for node in self.corpus: \n",
    "            if keyword1 in node and keyword2 in node:\n",
    "                count = count+1\n",
    "        return count\n",
    "    \n",
    "    #return a lift of the two keywords\n",
    "    def getLift(self,keyword1, keyword2):\n",
    "        both = self.__count__(keyword1, keyword2)\n",
    "        k1 = self.__count__(keyword1)\n",
    "        k2 = self.__count__(keyword2)\n",
    "        \n",
    "        try:\n",
    "            return ((self.N*both)/(k1*k2))\n",
    "        except ZeroDivisionError:\n",
    "            if k1 ==0:\n",
    "                k1 = k1+1\n",
    "            if k2 == 0:\n",
    "                k2 = k2+1\n",
    "            return ((self.N*both)/(k1*k2))"
   ]
  },
  {
   "cell_type": "markdown",
   "metadata": {},
   "source": [
    "Calculate the lift and dissimilarity matrix."
   ]
  },
  {
   "cell_type": "code",
   "execution_count": 30,
   "metadata": {},
   "outputs": [],
   "source": [
    "myLift = lift(pure_comments)\n",
    "\n",
    "providers_ = list(provider_count100.keys())\n",
    "\n",
    "#calculate the similarities(lift) matrix of each brand for the plotting later. \n",
    "dissimilarities = []\n",
    "for prov in providers_: \n",
    "    k1brand = prov\n",
    "    local = []\n",
    "    for prov in providers_:\n",
    "        k2brand = prov\n",
    "        if k1brand == k2brand:\n",
    "            local.append(0.0000001)\n",
    "            continue\n",
    "        try: \n",
    "            local.append((1/myLift.getLift(k1brand,k2brand))+0.0000001)\n",
    "        except ZeroDivisionError: \n",
    "            #for the case of lift = 0\n",
    "            #approximate by adding a really small number\n",
    "            local.append((1/(myLift.getLift(k1brand,k2brand)+0.00000000001))+0.0000001)\n",
    "    dissimilarities.append(local)"
   ]
  },
  {
   "cell_type": "markdown",
   "metadata": {},
   "source": [
    "Plot the dissimilarity matrix"
   ]
  },
  {
   "cell_type": "code",
   "execution_count": 31,
   "metadata": {},
   "outputs": [
    {
     "data": {
      "image/png": "[encoded data removed]",
      "text/plain": [
       "<Figure size 1152x864 with 1 Axes>"
      ]
     },
     "metadata": {},
     "output_type": "display_data"
    }
   ],
   "source": [
    "mds = manifold.MDS(n_components=2, max_iter=3000, eps=1e-9, random_state=99,\n",
    "                   dissimilarity=\"precomputed\", n_jobs=1)\n",
    "pos = mds.fit(dissimilarities).embedding_\n",
    "\n",
    "#plot\n",
    "figure(figsize=(16,12))\n",
    "\n",
    "#the tick thing is just a shortcut for tackling legend. Just leave it.\n",
    "tick_s = 0\n",
    "tick_cc = 0\n",
    "tick_ch = 0\n",
    "for i in range(0,pos.shape[0]):\n",
    "    if providers_[i] in service:\n",
    "        co =\"r\"\n",
    "        lab = \"service\"\n",
    "        if tick_s >0:\n",
    "            lab = None\n",
    "        tick_s = tick_s+1\n",
    "    elif providers_[i] in cable_com:\n",
    "        co =\"b\"\n",
    "        lab = \"cable_com\"\n",
    "        if tick_cc >0:\n",
    "            lab = None\n",
    "        tick_cc = tick_cc+1\n",
    "    elif providers_[i] in channel:\n",
    "        co =\"g\"\n",
    "        lab = \"channel\"\n",
    "        if tick_ch >0:\n",
    "            lab = None\n",
    "        tick_ch = tick_ch+1\n",
    "    else:\n",
    "        print(\"Not Specified type of element\")\n",
    "        break\n",
    "    plt.scatter(pos[i, 0], pos[i, 1], color=co, s=100, lw=0, label=lab)\n",
    "plt.legend()\n",
    "\n",
    "\n",
    "#add labels for each brand\n",
    "texts = []\n",
    "for x, y, s in zip(pos[:, 0], pos[:, 1], providers_):\n",
    "    texts.append(plt.text(x, y, s))\n",
    "adjust_text(texts,arrowprops=dict(arrowstyle=\"->\", color='black', lw=0.5))\n",
    "plt.show\n",
    "\n",
    "plt.savefig('all_in_one.png',bbox_inches = 'tight', dpi = 600)"
   ]
  },
  {
   "cell_type": "markdown",
   "metadata": {},
   "source": [
    "The plot above shows that most of cable companies are extremely not associated with others. People don't really discuss them against channel and services."
   ]
  },
  {
   "cell_type": "code",
   "execution_count": null,
   "metadata": {},
   "outputs": [],
   "source": []
  },
  {
   "cell_type": "markdown",
   "metadata": {},
   "source": [
    "MDS may be inaccurate when processing too many dots. Also, too many dots make several companies are overlapped with each other. For readability, we compare the services against channels to see how people assiciate content with streaming services first. \n",
    "Take the log value to smooth the effect of high dissmiliarities on readability."
   ]
  },
  {
   "cell_type": "code",
   "execution_count": 47,
   "metadata": {},
   "outputs": [
    {
     "data": {
      "text/plain": [
       "<function matplotlib.pyplot.show(*args, **kw)>"
      ]
     },
     "execution_count": 47,
     "metadata": {},
     "output_type": "execute_result"
    },
    {
     "data": {
      "image/png": "[encoded data removed]",
      "text/plain": [
       "<Figure size 1152x864 with 1 Axes>"
      ]
     },
     "metadata": {},
     "output_type": "display_data"
    }
   ],
   "source": [
    "providers_center = providers_.copy()\n",
    "\n",
    "to_remove = [\"fire stick\",'wow','cox','charter','amc','fubo','spectrum','directv','comcast']\n",
    "for element in to_remove:\n",
    "    try:\n",
    "        providers_center.remove(element)\n",
    "    except:\n",
    "        continue\n",
    "\n",
    "\n",
    "#calculate the similarities(lift) matrix of each brand\n",
    "dissimilarities = []\n",
    "for prov in providers_center: \n",
    "    k1brand = prov\n",
    "    local = []\n",
    "    for prov in providers_center:\n",
    "        k2brand = prov\n",
    "        if k1brand == k2brand:\n",
    "            local.append(log(1+0.0000001,2))\n",
    "            continue\n",
    "        try: \n",
    "            local.append(log(1+(1/myLift.getLift(k1brand,k2brand))+0.0000001,2))\n",
    "        except ZeroDivisionError: \n",
    "            #lift = 0\n",
    "            #approximate by adding a really small number\n",
    "            local.append(log(1+(1/(myLift.getLift(k1brand,k2brand)+0.00001))+0.0000001,2))\n",
    "    dissimilarities.append(local)\n",
    "    \n",
    "mds = manifold.MDS(n_components=2, max_iter=3000, eps=1e-9, random_state=99,\n",
    "                   dissimilarity=\"precomputed\", n_jobs=1)\n",
    "pos = mds.fit(dissimilarities).embedding_\n",
    "\n",
    "#plot\n",
    "figure(figsize=(16,12))\n",
    "\n",
    "#Disney is developping streaming service as well. It actually belongs to both categories. \n",
    "try:\n",
    "    channel.remove(\"disney\")\n",
    "    service.append(\"disney\")\n",
    "except:\n",
    "    pass\n",
    "\n",
    "#the tick thing is just a shortcut for tackling legend. Just leave it.\n",
    "tick_s = 0\n",
    "tick_cc = 0\n",
    "tick_ch = 0\n",
    "for i in range(0,pos.shape[0]):\n",
    "    if providers_center[i] in service:\n",
    "        co =\"r\"\n",
    "        lab = \"service\"\n",
    "        if tick_s >0:\n",
    "            lab = None\n",
    "        tick_s = tick_s+1\n",
    "    elif providers_center[i] in cable_com:\n",
    "        co =\"b\"\n",
    "        lab = \"cable_com\"\n",
    "        if tick_cc >0:\n",
    "            lab = None\n",
    "        tick_cc = tick_cc+1\n",
    "    elif providers_center[i] in channel:\n",
    "        co =\"g\"\n",
    "        lab = \"channel\"\n",
    "        if tick_ch >0:\n",
    "            lab = None\n",
    "        tick_ch = tick_ch+1\n",
    "    else:\n",
    "        print(\"Not Specified type of element\")\n",
    "        break\n",
    "    plt.scatter(pos[i, 0], pos[i, 1], color=co, s=100, lw=0, label=lab)\n",
    "plt.legend()\n",
    "\n",
    "\n",
    "#add labels for each brand\n",
    "texts = []\n",
    "for x, y, s in zip(pos[:, 0], pos[:, 1], providers_center):\n",
    "    texts.append(plt.text(x, y, s))\n",
    "adjust_text(texts,arrowprops=dict(arrowstyle=\"->\", color='black', lw=0.5))\n",
    "\n",
    "plt.savefig('Channel_service.png',bbox_inches = 'tight', dpi = 600)\n",
    "plt.show"
   ]
  },
  {
   "attachments": {},
   "cell_type": "markdown",
   "metadata": {},
   "source": [
    "After removing the cable companies, we can see which channels are associated with which services. The plot shows a clear pattern distinguishing services and channel.<p> Within the cluster of channel, we can observe 3 sub-cluster: the \"Disney Cluster\", the \"ESPN-Discovery Cluster\" and the cluster highly assicoated to streaming services. <br>\n",
    "    \n",
    "Disney is interestingly associated with Fox and ABC, and this is probably due to Disney’s acquisition of FOX and the upcoming streaming service. Disney successfully forms a unique stand that differentiate their content from other channels. <p>\n",
    "The ESPN-Discovery cluster is the most surprising one. HGTV, also in the cluster, is owned by Discovery and no wonder in the cluster. However, ESPN and Discovery provide very different content and appear in the same cluster. This indicates that people often these two channels together in the same comment. <p>\n",
    "Lastly, CBS, NBC and HBO is highly assocaited with streaming services. This may suggest that their content is highly compatible with streamings. HBO is not a surprise to be in-between netflix and hulu as their content is quite similar. "
   ]
  },
  {
   "cell_type": "code",
   "execution_count": null,
   "metadata": {},
   "outputs": [],
   "source": []
  },
  {
   "cell_type": "markdown",
   "metadata": {},
   "source": [
    "Last but not least, to see how the cable companies associated with streaming services, as they are facing severe competition against streamings. "
   ]
  },
  {
   "cell_type": "code",
   "execution_count": 48,
   "metadata": {},
   "outputs": [
    {
     "data": {
      "text/plain": [
       "<function matplotlib.pyplot.show(*args, **kw)>"
      ]
     },
     "execution_count": 48,
     "metadata": {},
     "output_type": "execute_result"
    },
    {
     "data": {
      "image/png": "[encoded data removed]",
      "text/plain": [
       "<Figure size 720x432 with 1 Axes>"
      ]
     },
     "metadata": {},
     "output_type": "display_data"
    }
   ],
   "source": [
    "myLift = lift(pure_comments)\n",
    "providers_center= ['netflix', 'hulu', 'fubo', 'comcast', 'directv', 'spectrum','amazon stick']\n",
    "#calculate the similarities(lift) matrix of each brand\n",
    "dissimilarities = []\n",
    "for prov in providers_center: \n",
    "    k1brand = prov\n",
    "    local = []\n",
    "    for prov in providers_center:\n",
    "        k2brand = prov\n",
    "        if k1brand == k2brand:\n",
    "            local.append(log(1+0.0000001,2))\n",
    "            continue\n",
    "        try: \n",
    "            local.append(log(1+(1/myLift.getLift(k1brand,k2brand))+0.0000001,2))\n",
    "        except ZeroDivisionError: \n",
    "            #lift = 0\n",
    "            #approximate by adding a really small number\n",
    "            local.append(log(1+(1/(myLift.getLift(k1brand,k2brand)+0.00001))+0.0000001,2))\n",
    "    dissimilarities.append(local)\n",
    "    \n",
    "mds = manifold.MDS(n_components=2, max_iter=3000, eps=1e-9, random_state=99,\n",
    "                   dissimilarity=\"precomputed\", n_jobs=1)\n",
    "pos = mds.fit(dissimilarities).embedding_\n",
    "\n",
    "#plot\n",
    "figure(figsize=(10,6))\n",
    "#the tick thing is just a shortcut for tackling legend. Just leave it.\n",
    "tick_s = 0\n",
    "tick_cc = 0\n",
    "tick_ch = 0\n",
    "for i in range(0,pos.shape[0]):\n",
    "    if providers_center[i] in service:\n",
    "        co =\"r\"\n",
    "        lab = \"service\"\n",
    "        if tick_s >0:\n",
    "            lab = None\n",
    "        tick_s = tick_s+1\n",
    "    elif providers_center[i] in cable_com:\n",
    "        co =\"b\"\n",
    "        lab = \"cable_com\"\n",
    "        if tick_cc >0:\n",
    "            lab = None\n",
    "        tick_cc = tick_cc+1\n",
    "    elif providers_center[i] in channel:\n",
    "        co =\"g\"\n",
    "        lab = \"channel\"\n",
    "        if tick_ch >0:\n",
    "            lab = None\n",
    "        tick_ch = tick_ch+1\n",
    "    else:\n",
    "        print(\"Not Specified type of element\")\n",
    "        break\n",
    "    plt.scatter(pos[i, 0], pos[i, 1], color=co, s=100, lw=0, label=lab)\n",
    "plt.legend()\n",
    "\n",
    "\n",
    "#add labels for each brand\n",
    "texts = []\n",
    "for x, y, s in zip(pos[:, 0], pos[:, 1], providers_center):\n",
    "    texts.append(plt.text(x, y, s))\n",
    "adjust_text(texts,arrowprops=dict(arrowstyle=\"->\", color='black', lw=0.5))\n",
    "\n",
    "\n",
    "plt.savefig('specified topics',bbox_inches = 'tight', dpi = 600)\n",
    "plt.show "
   ]
  },
  {
   "cell_type": "markdown",
   "metadata": {},
   "source": [
    "This plot shows us how cable TV are related to streamings, and how potentially people may cut the cord and turn to streamings. The position of directv is interesting: this may positively indicate that people think of them more with streaming, but also negatively suggest that some users are cutting the cord and considering some of the \"surrounding streaming services.\""
   ]
  },
  {
   "cell_type": "code",
   "execution_count": null,
   "metadata": {},
   "outputs": [],
   "source": []
  },
  {
   "cell_type": "markdown",
   "metadata": {},
   "source": [
    "## LDA topics modeling"
   ]
  },
  {
   "cell_type": "code",
   "execution_count": 49,
   "metadata": {},
   "outputs": [],
   "source": [
    "#remove stopwords \n",
    "#since our method does not include tokenize, I add blank at the beginning and end of a stop word.\n",
    "#Otherwise we'll be removing \"character\" not \"word\" \n",
    "stop_words = list(stopwords.words('english'))\n",
    "for i in range(0,len(stop_words)): \n",
    "    stop_words[i] = \" \"+stop_words[i] + \" \"\n",
    "\n",
    "#remove\n",
    "for i in range(0,len(pure_comments)): \n",
    "    for stop in stop_words:\n",
    "        if stop in pure_comments[i]:\n",
    "            pure_comments[i]=pure_comments[i].replace(stop,' ')\n",
    "        if '\\n' in pure_comments[i]:\n",
    "            pure_comments[i]=pure_comments[i].replace('\\n','')\n",
    "\n",
    "documents = pure_comments"
   ]
  },
  {
   "cell_type": "code",
   "execution_count": 50,
   "metadata": {},
   "outputs": [],
   "source": [
    "#data pre-processing for LDA topics modeling: we need tf of the corpus\n",
    "\n",
    "no_features = 100\n",
    "tf_vectorizer = CountVectorizer(max_df=0.95, min_df=2, max_features=no_features, stop_words='english')\n",
    "tf = tf_vectorizer.fit_transform(documents)\n",
    "tf_feature_names = tf_vectorizer.get_feature_names()"
   ]
  },
  {
   "cell_type": "code",
   "execution_count": 51,
   "metadata": {},
   "outputs": [
    {
     "name": "stderr",
     "output_type": "stream",
     "text": [
      "/Users/k.vincent/anaconda3/lib/python3.6/site-packages/sklearn/decomposition/online_lda.py:294: DeprecationWarning: n_topics has been renamed to n_components in version 0.19 and will be removed in 0.21\n",
      "  DeprecationWarning)\n"
     ]
    },
    {
     "name": "stdout",
     "output_type": "stream",
     "text": [
      "..Topic 0:\n",
      "..tv, Fraction = 0.107545\n",
      "\n",
      "..channels, Fraction = 0.070780\n",
      "\n",
      "..vuevue, Fraction = 0.060599\n",
      "\n",
      "..playstation, Fraction = 0.043855\n",
      "\n",
      "..streaming, Fraction = 0.041113\n",
      "\n",
      "..top10_fraction = 0.323891\n",
      "\n",
      "..Topic 1:\n",
      "..google, Fraction = 0.234248\n",
      "\n",
      "..amazon, Fraction = 0.161706\n",
      "\n",
      "..good, Fraction = 0.059005\n",
      "\n",
      "..know, Fraction = 0.039993\n",
      "\n",
      "..new, Fraction = 0.038247\n",
      "\n",
      "..top10_fraction = 0.533199\n",
      "\n",
      "..Topic 2:\n",
      "..vuevue, Fraction = 0.107312\n",
      "\n",
      "..hulu, Fraction = 0.066169\n",
      "\n",
      "..watch, Fraction = 0.065321\n",
      "\n",
      "..netflix, Fraction = 0.064378\n",
      "\n",
      "..com, Fraction = 0.057394\n",
      "\n",
      "..top10_fraction = 0.360575\n",
      "\n",
      "..Topic 3:\n",
      "..antenna, Fraction = 0.093325\n",
      "\n",
      "..cable, Fraction = 0.083395\n",
      "\n",
      "..month, Fraction = 0.068879\n",
      "\n",
      "..internet, Fraction = 0.064764\n",
      "\n",
      "..channel, Fraction = 0.047362\n",
      "\n",
      "..top10_fraction = 0.357726\n",
      "\n",
      "..Topic 4:\n",
      "..like, Fraction = 0.168524\n",
      "\n",
      "..time, Fraction = 0.133101\n",
      "\n",
      "..ve, Fraction = 0.114827\n",
      "\n",
      "..people, Fraction = 0.114316\n",
      "\n",
      "..really, Fraction = 0.113505\n",
      "\n",
      "..top10_fraction = 0.644273\n",
      "\n"
     ]
    }
   ],
   "source": [
    "# Run LDA\n",
    "lda = LatentDirichletAllocation(n_topics=5, max_iter=5, learning_method='online', learning_offset=50.,random_state=0).fit(tf)\n",
    "\n",
    "def display_topics(model, feature_names, no_top_words):\n",
    "    for topic_idx, topic in enumerate(model.components_):\n",
    "        print (\"..Topic %d:\" % (topic_idx))\n",
    "        top10_fraction = []\n",
    "        for i in topic.argsort()[:-no_top_words - 1:-1]:\n",
    "            print (\"..\"+\" \".join([feature_names[i]])+\", Fraction = %f\\n\"%(topic[i]/sum(topic)))\n",
    "            top10_fraction.append((topic[i]/sum(topic)))\n",
    "        print(\"..top10_fraction = %f\\n\"%sum(top10_fraction))\n",
    "no_top_words = 5\n",
    "display_topics(lda, tf_feature_names, no_top_words)"
   ]
  },
  {
   "cell_type": "markdown",
   "metadata": {},
   "source": [
    "## Topics Association with Companies<br>\n",
    "After considering two version of topics modeling (refer to \"LDA with Pre-TOken Set\"), I found that the \"LDA with Pre-TOken Set\" is more interpretable and has more potential findings. Thus I then included the \"lift\" between each cable company/channel/services and each topics. <br>\n",
    "Some representative words of each topic were picked and replaced to the corpus, then the lift was calculated. "
   ]
  },
  {
   "cell_type": "markdown",
   "metadata": {},
   "source": [
    "Reload the dataset"
   ]
  },
  {
   "cell_type": "code",
   "execution_count": 80,
   "metadata": {},
   "outputs": [],
   "source": [
    "cable_com = []\n",
    "channel = []\n",
    "service = []\n",
    "with open('/Users/k.vincent/Desktop/MSBA Course - Fall 2018/Text Analytics/Final Project/Cable Company.csv'\\\n",
    "          , 'r',encoding=\"utf8\", errors='ignore') as csvfile:\n",
    "    spamreader = csv.reader(csvfile, delimiter=',')\n",
    "    for row in spamreader:\n",
    "        cable_com.append(row[0].lower())\n",
    "    cable_com[0] = 'XFINITY'\n",
    "cable_com.append(\"fubo\")\n",
    "cable_com.append(\"spectrum\")\n",
    "\n",
    "with open('/Users/k.vincent/Desktop/MSBA Course - Fall 2018/Text Analytics/Final Project/Channel.csv'\\\n",
    "          , 'r',encoding=\"utf8\", errors='ignore') as csvfile:\n",
    "    spamreader = csv.reader(csvfile, delimiter=',')\n",
    "    for row in spamreader:\n",
    "        channel.append(row[0].lower())\n",
    "    channel[0] = 'abc'\n",
    "    \n",
    "    \n",
    "\n",
    "with open('/Users/k.vincent/Desktop/MSBA Course - Fall 2018/Text Analytics/Final Project/Service.csv'\\\n",
    "          , 'r',encoding=\"utf8\", errors='ignore') as csvfile:\n",
    "    spamreader = csv.reader(csvfile, delimiter=',')\n",
    "    for row in spamreader:\n",
    "        service.append(row[0].lower())\n",
    "    service[0] = 'youtube'\n",
    "#drop duplicates\n",
    "service = list(set(service))\n",
    "\n",
    "\n",
    "#import the mapping data for cleaning\n",
    "mapping = {}\n",
    "with open('/Users/k.vincent/Desktop/MSBA Course - Fall 2018/Text Analytics/Final Project/mapping.csv', 'r',encoding=\"utf8\", errors='ignore') as csvfile:\n",
    "    spamreader = csv.reader(csvfile, delimiter=',')\n",
    "    for row in spamreader:\n",
    "            mapping[row[1].lower()] = row[0].lower()\n",
    "mapping[\"yttv\"] = \"youtube\"\n",
    "\n",
    "pure_comments = [i[1] for i in comments[1:]]\n",
    "#all comments to lower\n",
    "for i in range(0,len(pure_comments)):\n",
    "    pure_comments[i] = pure_comments[i].lower()\n",
    "    \n",
    "#replace model with brand\n",
    "for i in range(0,len(pure_comments)):\n",
    "    for key in mapping.keys():\n",
    "        if key in pure_comments[i]:\n",
    "            pure_comments[i] = pure_comments[i].replace(key, mapping[key])\n",
    "\n",
    "#\"pure_comments\" is the corpus we will use for MDS\n",
    "#count the total occurance of those service, channel and cable company\n",
    "total = service +channel + cable_com\n",
    "\n",
    "\n",
    "try:\n",
    "    service.remove(\"comcast\")\n",
    "    cable_com.append(\"comcast\")\n",
    "except:\n",
    "    pass\n",
    "try:\n",
    "    service.remove(\"directv\")\n",
    "    cable_com.append(\"directv\")\n",
    "except:\n",
    "    pass\n",
    "\n",
    "try:\n",
    "    cable_com.remove(\"fubo\")\n",
    "    service.append(\"fubo\")\n",
    "except:\n",
    "    pass\n",
    "\n",
    "try:\n",
    "    service.remove(\"pbs\")\n",
    "    channel.append(\"pbs\")\n",
    "except:\n",
    "    pass\n",
    "\n",
    "try:\n",
    "    service.remove(\"hbo\")\n",
    "    channel.append(\"hbo\")\n",
    "except:\n",
    "    pass\n",
    "\n",
    "\n",
    "#provider_count100 is the all the service, channel and cable company we'll use for MDS"
   ]
  },
  {
   "attachments": {},
   "cell_type": "markdown",
   "metadata": {},
   "source": [
    "The topics generated from \"LDA_with_preToken_set.ipynb\" are User experience, Net Neutrality, Sport Package, Traditional Cable Experience.\n",
    "<p>Topics and keywords include: <br>\n",
    "User Experience - Update, Interface, Guide, Provider, Support, Disconnect<br>\n",
    "Net Neutrality - Neutrality, Throttling, Jefferson (Thomas Jefferson), Speed, Internet<br>\n",
    "Sports Packages - Soccer, Football, Sport, Monthly, Watch<br>\n",
    "Traditional Cable Experience - Antenna, Comcast, Tuner, Broadband<br>\n",
    "    \n",
    "\"Comcast\" appears in the traditional cable topics, suggesting it as a representative cable company. We now are goint to pick up some keyword and see the lift between topics and companies. "
   ]
  },
  {
   "cell_type": "code",
   "execution_count": 81,
   "metadata": {},
   "outputs": [],
   "source": [
    "#topics\n",
    "UX = ['Update', 'Interface', 'Guide', 'Provider', 'Support', 'Disconnect']\n",
    "UX = [i.lower() for i in UX]\n",
    "NN = ['Neutrality', 'Throttling', 'Speed', 'Internet']\n",
    "NN = [i.lower() for i in NN]\n",
    "Sport = ['Soccer', 'Football', 'Sport', 'Watch']\n",
    "Sport = [i.lower() for i in Sport]\n",
    "Trad_cable_exp = ['Antenna', 'Tuner', 'Broadband']\n",
    "Trad_cable_exp = [i.lower() for i in Trad_cable_exp]\n"
   ]
  },
  {
   "cell_type": "code",
   "execution_count": 82,
   "metadata": {},
   "outputs": [],
   "source": [
    "mapping = {}\n",
    "mapping[\"UX\"] = UX\n",
    "mapping[\"NN\"] = NN\n",
    "mapping[\"Sport\"] = Sport\n",
    "mapping[\"TCexp\"] = Trad_cable_exp\n",
    "#---\n",
    "comment_dict = {}\n",
    "#replace model with brand\n",
    "for i in range(0,len(pure_comments)):\n",
    "    for key, value in mapping.items():\n",
    "        y = 0\n",
    "        for word in value:\n",
    "            if word in pure_comments[i]:\n",
    "                y = 1\n",
    "                pure_comments[i] = pure_comments[i].replace(word, str(key).lower())\n",
    "        if y ==1:\n",
    "            try: \n",
    "                comment_dict[str(key)].append([pure_comments[i]])\n",
    "            except: \n",
    "                comment_dict[str(key)] = []\n",
    "                comment_dict[str(key)].append([pure_comments[i]])\n",
    "            \n",
    "#\"pure_comments\" is the corpus we will use for MDS"
   ]
  },
  {
   "cell_type": "code",
   "execution_count": null,
   "metadata": {},
   "outputs": [],
   "source": []
  },
  {
   "cell_type": "code",
   "execution_count": 83,
   "metadata": {},
   "outputs": [],
   "source": [
    "os.chdir(\"/Users/k.vincent/Desktop/\")\n",
    "with open('ux.csv', 'w') as csv_file:\n",
    "    writer = csv.writer(csv_file, delimiter=',')\n",
    "    for i in comment_dict['UX']:\n",
    "         writer.writerow(i)\n",
    "\n",
    "os.chdir(\"/Users/k.vincent/Desktop/\")\n",
    "with open('Trad_cable_exp.csv', 'w') as csv_file:\n",
    "    writer = csv.writer(csv_file, delimiter=',')\n",
    "    for i in comment_dict['TCexp']:\n",
    "         writer.writerow(i)\n",
    "            \n",
    "os.chdir(\"/Users/k.vincent/Desktop/\")\n",
    "with open('NN.csv', 'w') as csv_file:\n",
    "    writer = csv.writer(csv_file, delimiter=',')\n",
    "    for i in comment_dict['NN']:\n",
    "         writer.writerow(i)\n",
    "            \n",
    "os.chdir(\"/Users/k.vincent/Desktop/\")\n",
    "with open('Sport.csv', 'w') as csv_file:\n",
    "    writer = csv.writer(csv_file, delimiter=',')\n",
    "    for i in comment_dict['Sport']:\n",
    "         writer.writerow(i)"
   ]
  },
  {
   "cell_type": "code",
   "execution_count": 84,
   "metadata": {},
   "outputs": [],
   "source": [
    "myLift = lift(pure_comments)\n",
    "topics = list(mapping.keys())\n",
    "providers_for_topics= ['netflix', 'hulu', 'fubo', 'comcast', 'directv', 'spectrum', \\\n",
    "                       'amazon stick', 'cox']\n",
    "\n",
    "topic_prov_lift = {}\n",
    "for _providers_ in providers_for_topics:\n",
    "    for topic in topics:\n",
    "        topic_prov_lift[topic.lower()+\" - \"+_providers_] = myLift.getLift(_providers_, topic.lower())\n"
   ]
  },
  {
   "cell_type": "code",
   "execution_count": null,
   "metadata": {},
   "outputs": [],
   "source": []
  },
  {
   "cell_type": "markdown",
   "metadata": {},
   "source": [
    "Sentiment Score of each topics is estimated by teammate using bi-gram PMI."
   ]
  },
  {
   "cell_type": "code",
   "execution_count": 86,
   "metadata": {},
   "outputs": [],
   "source": [
    "#sentiment\n",
    "import numpy as np\n",
    "nn_senti = []\n",
    "with open('/Users/k.vincent/Downloads/nn_with_sentiments.csv'\\\n",
    "          , 'r',encoding=\"utf8\", errors='ignore') as csvfile:\n",
    "    spamreader = csv.reader(csvfile, delimiter=',')\n",
    "    t = 0\n",
    "    for row in spamreader:\n",
    "        if t == 0:\n",
    "            t = 1\n",
    "            continue\n",
    "        nn_senti.append(float(row[2]))\n",
    "nn_sentiment_score = np.mean(nn_senti)\n",
    "\n",
    "spt_senti = []\n",
    "with open('/Users/k.vincent/Downloads/sport_with_sentiments.csv'\\\n",
    "          , 'r',encoding=\"utf8\", errors='ignore') as csvfile:\n",
    "    spamreader = csv.reader(csvfile, delimiter=',')\n",
    "    t = 0\n",
    "    for row in spamreader:\n",
    "        if t == 0:\n",
    "            t = 1\n",
    "            continue\n",
    "        spt_senti.append(float(row[2]))\n",
    "sport_sentiment_score = np.mean(spt_senti)\n",
    "\n",
    "\n",
    "tcexp_senti = []\n",
    "with open('/Users/k.vincent/Downloads/Trad_cable_exp_with_sentiments.csv'\\\n",
    "          , 'r',encoding=\"utf8\", errors='ignore') as csvfile:\n",
    "    spamreader = csv.reader(csvfile, delimiter=',')\n",
    "    t = 0\n",
    "    for row in spamreader:\n",
    "        if t == 0:\n",
    "            t = 1\n",
    "            continue\n",
    "        tcexp_senti.append(float(row[2]))\n",
    "tc_exp_sentiment_score = np.mean(tcexp_senti)\n",
    "\n",
    "ux_senti = []\n",
    "with open('/Users/k.vincent/Downloads/ux_with_sentiments.csv'\\\n",
    "          , 'r',encoding=\"utf8\", errors='ignore') as csvfile:\n",
    "    spamreader = csv.reader(csvfile, delimiter=',')\n",
    "    t = 0\n",
    "    for row in spamreader:\n",
    "        if t == 0:\n",
    "            t = 1\n",
    "            continue\n",
    "        ux_senti.append(float(row[2]))\n",
    "ux_sentiment_score = np.mean(ux_senti)"
   ]
  },
  {
   "cell_type": "code",
   "execution_count": null,
   "metadata": {},
   "outputs": [],
   "source": []
  },
  {
   "cell_type": "markdown",
   "metadata": {},
   "source": [
    "#### Print out the lift of targeted companies and topics."
   ]
  },
  {
   "cell_type": "markdown",
   "metadata": {},
   "source": [
    "From the plot, we can find: \n",
    "    <p>\n",
    "1. Fubo and directv are more concerned with user experience. <br>\n",
    "2. Spectrum and Cox are related to net neutrality. <br>\n",
    "3. Fubo of course is discussed as sport content. <br>\n",
    "4. Amazon Stick appears to be highly associated with traditional cable company. When people talking about cable TV, they also consider Amazon Stick, maybe as an alternative. "
   ]
  },
  {
   "cell_type": "code",
   "execution_count": 88,
   "metadata": {},
   "outputs": [
    {
     "data": {
      "image/png": "[encoded data removed]",
      "text/plain": [
       "<Figure size 720x432 with 1 Axes>"
      ]
     },
     "metadata": {},
     "output_type": "display_data"
    }
   ],
   "source": [
    "label = []\n",
    "val = []\n",
    "for key, value in topic_prov_lift.items(): \n",
    "    if (str(key))[0:2] == 'ux':\n",
    "        label.append(str(key)[5:])\n",
    "        val.append(value)\n",
    "figure(figsize=(10,6))\n",
    "bar(label, val, color = \"darkblue\")\n",
    "plt.legend(['user experience lift \\n sentiment = %.2f'%ux_sentiment_score])\n",
    "plt.plot(range(0,8),[1]*8, color = \"red\")\n",
    "plt.savefig('ux',bbox_inches = 'tight', dpi = 400)\n",
    "plt.show()"
   ]
  },
  {
   "cell_type": "code",
   "execution_count": 89,
   "metadata": {},
   "outputs": [
    {
     "data": {
      "image/png": "[encoded data removed]",
      "text/plain": [
       "<Figure size 720x432 with 1 Axes>"
      ]
     },
     "metadata": {},
     "output_type": "display_data"
    }
   ],
   "source": [
    "label = []\n",
    "val = []\n",
    "for key, value in topic_prov_lift.items(): \n",
    "    if (str(key))[0:2] == 'nn':\n",
    "        label.append(str(key)[5:])\n",
    "        val.append(value)\n",
    "figure(figsize=(10,6))\n",
    "bar(label, val, color = \"teal\")\n",
    "plt.legend(['net neutrality lift \\n sentiment =%.2f'%nn_sentiment_score])\n",
    "plt.plot(range(0,8),[1]*8, color = \"red\")\n",
    "plt.savefig('nn',bbox_inches = 'tight', dpi = 400)\n",
    "plt.show()"
   ]
  },
  {
   "cell_type": "code",
   "execution_count": 90,
   "metadata": {},
   "outputs": [
    {
     "data": {
      "image/png": "[encoded data removed]",
      "text/plain": [
       "<Figure size 720x432 with 1 Axes>"
      ]
     },
     "metadata": {},
     "output_type": "display_data"
    }
   ],
   "source": [
    "label = []\n",
    "val = []\n",
    "for key, value in topic_prov_lift.items(): \n",
    "    if (str(key))[0:2] == 'sp':\n",
    "        label.append(str(key)[7:])\n",
    "        val.append(value)\n",
    "figure(figsize=(10,6))\n",
    "bar(label, val, color = \"olive\")\n",
    "plt.legend(['sport packages lift \\n sentiment =%.2f'%sport_sentiment_score])\n",
    "plt.plot(range(0,8),[1]*8, color = \"red\")\n",
    "plt.savefig('sport',bbox_inches = 'tight', dpi = 400)\n",
    "plt.show()"
   ]
  },
  {
   "cell_type": "code",
   "execution_count": 91,
   "metadata": {},
   "outputs": [
    {
     "data": {
      "image/png": "[encoded data removed]",
      "text/plain": [
       "<Figure size 720x432 with 1 Axes>"
      ]
     },
     "metadata": {},
     "output_type": "display_data"
    }
   ],
   "source": [
    "label = []\n",
    "val = []\n",
    "for key, value in topic_prov_lift.items(): \n",
    "    if (str(key))[0:2] == 'tc' and str(key)[7:] != \" comcast\":\n",
    "        label.append(str(key)[7:])\n",
    "        val.append(value)\n",
    "figure(figsize=(10,6))\n",
    "bar(label, val, color = \"indigo\")\n",
    "plt.legend(['traditional cable exp lift \\n sentiment =%.2f'%tc_exp_sentiment_score])\n",
    "plt.plot(range(0,7),[1]*7, color = \"red\")\n",
    "plt.savefig('traditional cable',bbox_inches = 'tight', dpi = 400)\n",
    "plt.show()"
   ]
  },
  {
   "cell_type": "code",
   "execution_count": null,
   "metadata": {},
   "outputs": [],
   "source": []
  },
  {
   "attachments": {},
   "cell_type": "markdown",
   "metadata": {},
   "source": [
    "#### What are the tendencies of people who cut the cord?\n",
    "This project mined relevant entities from the comments.<br>\n",
    "MDS Plotting shows divides between channels, services, and cable companies.<p>\n",
    "\n",
    "<br>\n",
    "\n",
    "\n",
    "\n",
    "#### What are the concerns of cord-cutters?\n",
    "LDA shows important topics are sports packages, net neutrality, the traditional cable experience, and user experience<br>\n",
    "Niche products – FuboTV – are associated more with \"product related topics (sport, UX)\" as opposed to \"general interest topics\".\n"
   ]
  },
  {
   "cell_type": "code",
   "execution_count": null,
   "metadata": {},
   "outputs": [],
   "source": []
  }
 ],
 "metadata": {
  "kernelspec": {
   "display_name": "Python 3",
   "language": "python",
   "name": "python3"
  },
  "language_info": {
   "codemirror_mode": {
    "name": "ipython",
    "version": 3
   },
   "file_extension": ".py",
   "mimetype": "text/x-python",
   "name": "python",
   "nbconvert_exporter": "python",
   "pygments_lexer": "ipython3",
   "version": "3.6.5"
  }
 },
 "nbformat": 4,
 "nbformat_minor": 2
}
